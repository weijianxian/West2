{
 "cells": [
  {
   "cell_type": "markdown",
   "metadata": {},
   "source": [
    "在你完成python基础的知识学习后，你需要确保你对以下知识点能正确回答（如果不能你仍可以通过b站视频以及网上文档的方式进行弥补）\n",
    "\n",
    "- 数据结构List,Dict的使用\n",
    "- Lambda匿名函数\n",
    "- Decorator装饰器\n",
    "- 类Class，Magic Methods的使用\n",
    "- re正则表达式的使用\n",
    "- 列表推导式\n",
    "- generator生成器（yield关键字）\n",
    "- OOP面向对象编程思想\n",
    "- Type Hint 类型注释"
   ]
  },
  {
   "cell_type": "markdown",
   "metadata": {},
   "source": [
    "# 1. 数据结构"
   ]
  },
  {
   "cell_type": "markdown",
   "metadata": {},
   "source": [
    "## 1. List"
   ]
  },
  {
   "cell_type": "markdown",
   "metadata": {},
   "source": [
    "列表,是用方括号标注，逗号分隔的一组值。可以包含不同类型的元素。"
   ]
  },
  {
   "cell_type": "code",
   "execution_count": 1,
   "metadata": {},
   "outputs": [],
   "source": [
    "example_list =[1,\"a\",True,4.5,None,[1,2,3]]"
   ]
  },
  {
   "cell_type": "markdown",
   "metadata": {},
   "source": [
    "### 1.列表是可迭代的(Iterable)\n",
    "\n",
    "\n",
    ">[Iterable-可迭代对象]((https://docs.python.org/zh-cn/3.13/glossary.html#term-iterable)) 一种能够逐个返回其成员项的对象。 可迭代对象的例子包括所有序列类型（如 list, str 和 tuple 等）以及某些非序列类型如 dict, 文件对象 以及任何定义了 __iter__() 方法或实现了 sequence 语义的 __getitem__() 方法的自定义类的对象。"
   ]
  },
  {
   "cell_type": "code",
   "execution_count": 2,
   "metadata": {},
   "outputs": [
    {
     "name": "stdout",
     "output_type": "stream",
     "text": [
      "<class 'int'>\n",
      "<class 'str'>\n",
      "<class 'bool'>\n",
      "<class 'float'>\n",
      "<class 'NoneType'>\n",
      "<class 'list'>\n"
     ]
    }
   ],
   "source": [
    "for i in example_list:\n",
    "    print(type(i))"
   ]
  },
  {
   "cell_type": "markdown",
   "metadata": {},
   "source": [
    "### 2. 列表可以切片(sequence)\n",
    "\n",
    "和字符串（及其他内置 sequence 类型）一样，列表也支持索引和切片：\n",
    ">[sequence -- 序列](https://docs.python.org/zh-cn/3.13/glossary.html#term-sequence) 一种 iterable，它支持通过 __getitem__() 特殊方法来使用整数索引进行高效的元素访问，并定义了一个返回序列长度的 __len__() 方法。 内置序列类型有 list, str, tuple 和 bytes 等。 请注意虽然 dict 也支持 __getitem__() 和 __len__()，但它被归类为映射而非序列，因为它使用任意的 hashable 键而不是整数来查找元素。"
   ]
  },
  {
   "cell_type": "code",
   "execution_count": 3,
   "metadata": {},
   "outputs": [
    {
     "name": "stdout",
     "output_type": "stream",
     "text": [
      "['a', True]\n",
      "[1, 'a', True, 4.5, None, [1, 2, 3], 1, 2, 3]\n"
     ]
    }
   ],
   "source": [
    "print(example_list[1:3])\n",
    "print(example_list + [1,2,3])"
   ]
  },
  {
   "cell_type": "markdown",
   "metadata": {},
   "source": [
    "### 3.列表是可变的\n",
    ">[mutable -- 可变对象](https://docs.python.org/zh-cn/3.13/glossary.html#term-mutable) 可变对象可以在其 id() 保持固定的情况下改变其取值。另请参见 immutable。\n",
    "\n",
    "对象的id可以视为其'身份证'"
   ]
  },
  {
   "cell_type": "code",
   "execution_count": 4,
   "metadata": {},
   "outputs": [
    {
     "name": "stdout",
     "output_type": "stream",
     "text": [
      "[1, 'a', True, 4.5, None, [1, 2, 3], 'new']\n",
      "a 和 b 指向同一个对象\n",
      "a 和 b 指向同一个对象\n",
      "[1, 2, 3, 4]\n",
      "[1, 2, 3, 4]\n"
     ]
    }
   ],
   "source": [
    "example_list.append(\"new\")\n",
    "print(example_list)\n",
    "\n",
    "# Python 中的简单赋值绝不会复制数据 , 只是创建了一个新的变量名到相同的对象的引用\n",
    "a = [1,2,3]\n",
    "b = a\n",
    "\n",
    "if id(a) == id(b):\n",
    "    print(\"a 和 b 指向同一个对象\")\n",
    "\n",
    "b.append(4)\n",
    "if a == b:\n",
    "    print(\"a 和 b 指向同一个对象\")\n",
    "    print(a)\n",
    "    print(b)\n",
    "\n",
    "del a , b,example_list ,i# 删除变量"
   ]
  },
  {
   "cell_type": "markdown",
   "metadata": {},
   "source": [
    "## 2.Dict"
   ]
  },
  {
   "cell_type": "markdown",
   "metadata": {},
   "source": [
    "### 1.字典是映射类型，字典用{}标识，它是一个无序的键(key) : 值(value)对集合"
   ]
  },
  {
   "cell_type": "code",
   "execution_count": 5,
   "metadata": {},
   "outputs": [],
   "source": [
    "example_dict = {\"a\":1,\"b\":2}"
   ]
  },
  {
   "cell_type": "markdown",
   "metadata": {},
   "source": [
    "### 2.字典通过 [] 或 dict.get() 获取 key 对应的 value"
   ]
  },
  {
   "cell_type": "code",
   "execution_count": 6,
   "metadata": {},
   "outputs": [
    {
     "name": "stdout",
     "output_type": "stream",
     "text": [
      "1\n",
      "1\n"
     ]
    }
   ],
   "source": [
    "print(example_dict[\"a\"])\n",
    "print(example_dict.get(\"a\"))"
   ]
  },
  {
   "cell_type": "markdown",
   "metadata": {},
   "source": [
    "# 2. lambda 匿名函数\n",
    "用完即抛的一次性函数"
   ]
  },
  {
   "cell_type": "markdown",
   "metadata": {},
   "source": [
    "## 匿名函数即用完即抛的没名字的函数"
   ]
  },
  {
   "cell_type": "code",
   "execution_count": 7,
   "metadata": {},
   "outputs": [
    {
     "name": "stdout",
     "output_type": "stream",
     "text": [
      "[('c', 1), ('b', 2), ('a', 3)]\n",
      "[('c', 1), ('b', 2), ('a', 3)]\n"
     ]
    }
   ],
   "source": [
    "# example:dict根据value排序\n",
    "\n",
    "my_dict = {\"a\":3,\"b\":2,\"c\":1}\n",
    "\n",
    "def wrapper(a:tuple[str,int]) -> int:\n",
    "    return a[1]\n",
    "\n",
    "print(sorted(my_dict.items(),key=wrapper))\n",
    "print(sorted(my_dict.items(),key=lambda x:x[1]))"
   ]
  },
  {
   "cell_type": "markdown",
   "metadata": {},
   "source": [
    "## lambda 返回一个函数对象"
   ]
  },
  {
   "cell_type": "code",
   "execution_count": 8,
   "metadata": {},
   "outputs": [
    {
     "name": "stdout",
     "output_type": "stream",
     "text": [
      "[('c', 1), ('b', 2), ('a', 3)]\n"
     ]
    }
   ],
   "source": [
    "# example:dict根据value排序\n",
    "\n",
    "my_dict = {\"a\": 3, \"b\": 2, \"c\": 1}\n",
    "\n",
    "wrapper = lambda x: x[1]\n",
    "# python 一切皆对象，函数也是对象，可以赋值给变量\n",
    "\n",
    "print(sorted(my_dict.items(), key=wrapper))"
   ]
  },
  {
   "cell_type": "markdown",
   "metadata": {},
   "source": [
    "# 3. decorator 装饰器\n",
    "给函数加上\"装饰\""
   ]
  },
  {
   "cell_type": "markdown",
   "metadata": {},
   "source": [
    "## 装饰器（Decorator）是Python中的一种设计模式\n",
    "用于在不修改函数或类定义的情况下，动态地给函数或类添加功能。装饰器本质上是一个返回函数的高阶函数。"
   ]
  },
  {
   "cell_type": "code",
   "execution_count": 9,
   "metadata": {},
   "outputs": [
    {
     "name": "stdout",
     "output_type": "stream",
     "text": [
      "我在调用函数之前\n",
      "3\n",
      "我在调用函数之后\n"
     ]
    }
   ],
   "source": [
    "# example:函数作为参数传递\n",
    "def outter(func):\n",
    "    # 定义一个内部函数\n",
    "    def wrapper():\n",
    "        print(\"我在调用函数之前\")\n",
    "        func()\n",
    "        print(\"我在调用函数之后\")\n",
    "    # 返回内部函数\n",
    "    return wrapper\n",
    "\n",
    "def add():\n",
    "    print(1+2)\n",
    "\n",
    "# 调用outter函数，传入add函数,返回一个新的函数\n",
    "outter(add)()\n"
   ]
  },
  {
   "cell_type": "markdown",
   "metadata": {},
   "source": [
    "## 通过@符号，可以将函数装饰器应用到函数上\n"
   ]
  },
  {
   "cell_type": "code",
   "execution_count": 10,
   "metadata": {},
   "outputs": [
    {
     "name": "stdout",
     "output_type": "stream",
     "text": [
      "我在调用函数之前\n",
      "我在调用函数\n",
      "我在调用函数之后\n"
     ]
    }
   ],
   "source": [
    "# example:函数作为参数传递\n",
    "def outter(func:callable):\n",
    "    def wrapper(*args,**kwargs):\n",
    "        print(\"我在调用函数之前\")\n",
    "        result = func(*args,**kwargs)\n",
    "        print(\"我在调用函数之后\")\n",
    "        return result\n",
    "    return wrapper\n",
    "\n",
    "@outter\n",
    "def add():\n",
    "    print(\"我在调用函数\")\n",
    "\n",
    "add()"
   ]
  },
  {
   "cell_type": "markdown",
   "metadata": {},
   "source": [
    "# 4. class\n",
    "像上帝一样思考"
   ]
  },
  {
   "cell_type": "markdown",
   "metadata": {},
   "source": [
    "## 在面向对象编程（OOP）中，class（类）是一个非常重要的概念。类是创建对象的蓝图或模板，它定义了对象的属性和行为。通过类，我们可以创建多个具有相同属性和行为的对象。"
   ]
  },
  {
   "cell_type": "code",
   "execution_count": 11,
   "metadata": {},
   "outputs": [
    {
     "name": "stdout",
     "output_type": "stream",
     "text": [
      "我叫Tom,今年18岁\n"
     ]
    }
   ],
   "source": [
    "class Person:\n",
    "    name = \"Tom\"\n",
    "    age = 18\n",
    "\n",
    "    def say(self,message:str):\n",
    "        print(message)\n",
    "\n",
    "    def introduce(self):\n",
    "        self.say(f\"我叫{self.name},今年{self.age}岁\")\n",
    "\n",
    "Tom = Person()\n",
    "Tom.introduce()"
   ]
  },
  {
   "cell_type": "markdown",
   "metadata": {},
   "source": [
    "## 类有一些特殊的方法称为魔术方法(Magic Meethod)，可以通过魔术方法定制类"
   ]
  },
  {
   "cell_type": "code",
   "execution_count": 12,
   "metadata": {},
   "outputs": [
    {
     "name": "stdout",
     "output_type": "stream",
     "text": [
      "Person(name=Tom,age=18)\n",
      "18\n",
      "True\n"
     ]
    }
   ],
   "source": [
    "class Person:\n",
    "    def __init__(self,name:str,age:int):\n",
    "        self.name = name\n",
    "        self.age = age\n",
    "\n",
    "    # 使用str()函数时调用类的__str__方法\n",
    "    def __str__(self):\n",
    "        return f\"Person(name={self.name},age={self.age})\"\n",
    "\n",
    "    # 使用len()函数时调用类的__len__方法\n",
    "    def __len__(self):\n",
    "        return self.age\n",
    "    # 使用<运算符时调用 x.__lt__(y)\n",
    "    def __lt__(self,other:\"Person\"):\n",
    "        return self.age < other.age\n",
    "\n",
    "Tom = Person(\"Tom\",18)\n",
    "Jerry = Person(\"Jerry\",20)\n",
    "print(str(Tom))\n",
    "print(len(Tom))\n",
    "# Tom < Jerry 会调用Tom.__lt__(Jerry) 方法 18 < 20 返回True\n",
    "print(Tom < Jerry)"
   ]
  },
  {
   "cell_type": "markdown",
   "metadata": {},
   "source": [
    "# 5. re 正则表达式\n",
    "强而有力的字符串匹配工具 \n",
    "具体详见[菜鸟教程](https://www.runoob.com/regexp/regexp-rule.html)。我不喜欢正则表达式"
   ]
  },
  {
   "cell_type": "markdown",
   "metadata": {},
   "source": [
    "# 6. 列表推导式\n",
    "简洁而强大地生成列表"
   ]
  },
  {
   "cell_type": "code",
   "execution_count": 13,
   "metadata": {},
   "outputs": [
    {
     "name": "stdout",
     "output_type": "stream",
     "text": [
      "[0, 1, 2, 3, 4, 5, 6, 7, 8, 9]\n",
      "[0, 2, 4, 6, 8]\n"
     ]
    },
    {
     "data": {
      "text/plain": [
       "True"
      ]
     },
     "execution_count": 13,
     "metadata": {},
     "output_type": "execute_result"
    }
   ],
   "source": [
    "mylist = [i for i in range(10)]\n",
    "print(mylist)\n",
    "\n",
    "mylist = [i for i in range(10) if i % 2 == 0]\n",
    "print(mylist)\n",
    "\n",
    "def isPrimenumber(n):\n",
    "    if n == 1:\n",
    "        return False\n",
    "    if True in [n % i == 0 for i in range(2,n)]:\n",
    "        return False\n",
    "    return True\n",
    "isPrimenumber(7)"
   ]
  },
  {
   "cell_type": "markdown",
   "metadata": {},
   "source": [
    "# 7. generator 生成器\n",
    "快速创建可迭代对象"
   ]
  },
  {
   "cell_type": "code",
   "execution_count": 14,
   "metadata": {},
   "outputs": [
    {
     "name": "stdout",
     "output_type": "stream",
     "text": [
      "h\n",
      "e\n",
      "l\n",
      "l\n",
      "o\n"
     ]
    }
   ],
   "source": [
    "def split_str(n:str):\n",
    "    index = 0\n",
    "    while index < len(n):\n",
    "        yield n[index]\n",
    "        index += 1\n",
    "\n",
    "\n",
    "for i in split_str(\"hello\"):\n",
    "    print(i)"
   ]
  },
  {
   "cell_type": "markdown",
   "metadata": {},
   "source": [
    "# 8. OOP 面向对象编程\n",
    "Python 一切皆对象"
   ]
  },
  {
   "cell_type": "code",
   "execution_count": 15,
   "metadata": {},
   "outputs": [
    {
     "name": "stdout",
     "output_type": "stream",
     "text": [
      "\u001b[1;31m这里已经被天才骇客银狼劫持了\u001b[0m hello world\n"
     ]
    }
   ],
   "source": [
    "bif_print = print\n",
    "def print(*args,**kwargs):\n",
    "    bif_print(\"\\033[1;31m这里已经被天才骇客银狼劫持了\\033[0m\", end=\" \")\n",
    "    bif_print(* args, **kwargs)\n",
    "print(\"hello world\")"
   ]
  },
  {
   "cell_type": "markdown",
   "metadata": {},
   "source": [
    "# 9. 类型注解\n",
    "让编辑器更懂你"
   ]
  }
 ],
 "metadata": {
  "kernelspec": {
   "display_name": "Python 3",
   "language": "python",
   "name": "python3"
  },
  "language_info": {
   "codemirror_mode": {
    "name": "ipython",
    "version": 3
   },
   "file_extension": ".py",
   "mimetype": "text/x-python",
   "name": "python",
   "nbconvert_exporter": "python",
   "pygments_lexer": "ipython3",
   "version": "3.11.4"
  }
 },
 "nbformat": 4,
 "nbformat_minor": 2
}
