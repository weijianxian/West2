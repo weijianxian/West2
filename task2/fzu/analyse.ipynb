{
 "cells": [
  {
   "cell_type": "markdown",
   "metadata": {},
   "source": [
    "1. 使用jupyter notebook的形式完成代码以及分析报告\n",
    "2. 统计“通知人”都有哪些，各占比例多少？\n",
    "3. 分析附件下载次数与通知人是否关系，若有，有什么联系？\n",
    "4. 统计每天的通知数，分析哪段时间通知比较密集？\n",
    "5. 自行思考一个感兴趣的问题，并进行数据分析\n",
    "6. 尝试使用数据可视化工具对3、4问题进行可视化呈现"
   ]
  },
  {
   "cell_type": "markdown",
   "metadata": {},
   "source": [
    "## 导入并加载数据"
   ]
  },
  {
   "cell_type": "code",
   "execution_count": null,
   "metadata": {},
   "outputs": [],
   "source": [
    "import pandas as pd\n",
    "\n",
    "data_set = pd.read_csv(\"notification.csv\")"
   ]
  },
  {
   "cell_type": "markdown",
   "metadata": {},
   "source": [
    "### 1. "
   ]
  }
 ],
 "metadata": {
  "kernelspec": {
   "display_name": "Python 3",
   "language": "python",
   "name": "python3"
  },
  "language_info": {
   "name": "python",
   "version": "3.11.4"
  }
 },
 "nbformat": 4,
 "nbformat_minor": 2
}
